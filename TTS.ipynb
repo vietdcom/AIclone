{
 "cells": [
  {
   "cell_type": "code",
   "id": "initial_id",
   "metadata": {
    "collapsed": true,
    "ExecuteTime": {
     "end_time": "2024-09-11T07:58:19.242985Z",
     "start_time": "2024-09-11T07:58:19.094416Z"
    }
   },
   "source": [
    "from gtts import gTTS\n",
    "import os"
   ],
   "outputs": [],
   "execution_count": 2
  },
  {
   "metadata": {
    "ExecuteTime": {
     "end_time": "2024-09-11T07:59:53.001767Z",
     "start_time": "2024-09-11T07:59:52.995522Z"
    }
   },
   "cell_type": "code",
   "source": "text = \"Xin chào! Đây là đoạn văn được chuyển đổi thành giọng nói bằng Python.\"",
   "id": "db1030415f4afbc7",
   "outputs": [],
   "execution_count": 8
  },
  {
   "metadata": {
    "ExecuteTime": {
     "end_time": "2024-09-11T07:59:53.383797Z",
     "start_time": "2024-09-11T07:59:53.377276Z"
    }
   },
   "cell_type": "code",
   "source": "language = 'vi'",
   "id": "df573db56ff44b48",
   "outputs": [],
   "execution_count": 9
  },
  {
   "metadata": {
    "ExecuteTime": {
     "end_time": "2024-09-23T07:45:12.877837Z",
     "start_time": "2024-09-23T07:45:12.845843Z"
    }
   },
   "cell_type": "code",
   "source": [
    "tts = gTTS(text=text, lang=language, slow=False)\n",
    "tts.save(\"Test/output.mp3\")"
   ],
   "id": "3127c9a0860761a7",
   "outputs": [
    {
     "ename": "NameError",
     "evalue": "name 'gTTS' is not defined",
     "output_type": "error",
     "traceback": [
      "\u001B[1;31m---------------------------------------------------------------------------\u001B[0m",
      "\u001B[1;31mNameError\u001B[0m                                 Traceback (most recent call last)",
      "Cell \u001B[1;32mIn[2], line 1\u001B[0m\n\u001B[1;32m----> 1\u001B[0m tts \u001B[38;5;241m=\u001B[39m gTTS(text\u001B[38;5;241m=\u001B[39mtext, lang\u001B[38;5;241m=\u001B[39mlanguage, slow\u001B[38;5;241m=\u001B[39m\u001B[38;5;28;01mFalse\u001B[39;00m)\n\u001B[0;32m      2\u001B[0m tts\u001B[38;5;241m.\u001B[39msave(\u001B[38;5;124m\"\u001B[39m\u001B[38;5;124mTest/output.mp3\u001B[39m\u001B[38;5;124m\"\u001B[39m)\n",
      "\u001B[1;31mNameError\u001B[0m: name 'gTTS' is not defined"
     ]
    }
   ],
   "execution_count": 2
  },
  {
   "metadata": {
    "ExecuteTime": {
     "end_time": "2024-09-11T08:00:00.656642Z",
     "start_time": "2024-09-11T08:00:00.120829Z"
    }
   },
   "cell_type": "code",
   "source": [
    "os.system(\"start Test/output.mp3\") #windows\n",
    "# os.system(\"mpg321 output.mp3\") #mac/limux"
   ],
   "id": "7a10a5df3b02062a",
   "outputs": [
    {
     "data": {
      "text/plain": [
       "0"
      ]
     },
     "execution_count": 11,
     "metadata": {},
     "output_type": "execute_result"
    }
   ],
   "execution_count": 11
  },
  {
   "metadata": {
    "ExecuteTime": {
     "end_time": "2024-09-09T04:44:36.912096Z",
     "start_time": "2024-09-09T04:44:36.905968Z"
    }
   },
   "cell_type": "code",
   "source": "import wave",
   "id": "d6917a2ae12d0627",
   "outputs": [],
   "execution_count": 13
  },
  {
   "metadata": {
    "ExecuteTime": {
     "end_time": "2024-09-23T07:45:16.467662Z",
     "start_time": "2024-09-23T07:45:16.461169Z"
    }
   },
   "cell_type": "code",
   "source": "import distutils",
   "id": "b3472f633f463bf1",
   "outputs": [],
   "execution_count": 3
  },
  {
   "metadata": {
    "ExecuteTime": {
     "end_time": "2024-09-23T07:45:20.122821Z",
     "start_time": "2024-09-23T07:45:20.112425Z"
    }
   },
   "cell_type": "code",
   "source": "distutils",
   "id": "6d8479fdea8ad13a",
   "outputs": [
    {
     "data": {
      "text/plain": [
       "<module 'distutils' (C:\\Users\\ADMIN\\miniconda3\\Lib\\site-packages\\setuptools\\_distutils\\__init__.py)>"
      ]
     },
     "execution_count": 4,
     "metadata": {},
     "output_type": "execute_result"
    }
   ],
   "execution_count": 4
  },
  {
   "metadata": {
    "ExecuteTime": {
     "end_time": "2024-09-23T07:45:22.108605Z",
     "start_time": "2024-09-23T07:45:22.056325Z"
    }
   },
   "cell_type": "code",
   "source": [
    "import distutils.msvccompiler as msvc \n",
    "mc = msvc.MSVCCompiler()\n",
    "mc.initialize()"
   ],
   "id": "ec757c5865275b36",
   "outputs": [
    {
     "ename": "DistutilsPlatformError",
     "evalue": "Unable to find vcvarsall.bat",
     "output_type": "error",
     "traceback": [
      "\u001B[1;31m---------------------------------------------------------------------------\u001B[0m",
      "\u001B[1;31mDistutilsPlatformError\u001B[0m                    Traceback (most recent call last)",
      "Cell \u001B[1;32mIn[5], line 3\u001B[0m\n\u001B[0;32m      1\u001B[0m \u001B[38;5;28;01mimport\u001B[39;00m \u001B[38;5;21;01mdistutils\u001B[39;00m\u001B[38;5;21;01m.\u001B[39;00m\u001B[38;5;21;01mmsvccompiler\u001B[39;00m \u001B[38;5;28;01mas\u001B[39;00m \u001B[38;5;21;01mmsvc\u001B[39;00m \n\u001B[0;32m      2\u001B[0m mc \u001B[38;5;241m=\u001B[39m msvc\u001B[38;5;241m.\u001B[39mMSVCCompiler()\n\u001B[1;32m----> 3\u001B[0m mc\u001B[38;5;241m.\u001B[39minitialize()\n",
      "File \u001B[1;32m~\\miniconda3\\Lib\\site-packages\\setuptools\\_distutils\\msvc9compiler.py:400\u001B[0m, in \u001B[0;36mMSVCCompiler.initialize\u001B[1;34m(self, plat_name)\u001B[0m\n\u001B[0;32m    394\u001B[0m \u001B[38;5;28;01melse\u001B[39;00m:\n\u001B[0;32m    395\u001B[0m     \u001B[38;5;66;03m# cross compile from win32 -> some 64bit\u001B[39;00m\n\u001B[0;32m    396\u001B[0m     plat_spec \u001B[38;5;241m=\u001B[39m (\n\u001B[0;32m    397\u001B[0m         PLAT_TO_VCVARS[get_platform()] \u001B[38;5;241m+\u001B[39m \u001B[38;5;124m'\u001B[39m\u001B[38;5;124m_\u001B[39m\u001B[38;5;124m'\u001B[39m \u001B[38;5;241m+\u001B[39m PLAT_TO_VCVARS[plat_name]\n\u001B[0;32m    398\u001B[0m     )\n\u001B[1;32m--> 400\u001B[0m vc_env \u001B[38;5;241m=\u001B[39m query_vcvarsall(VERSION, plat_spec)\n\u001B[0;32m    402\u001B[0m \u001B[38;5;28mself\u001B[39m\u001B[38;5;241m.\u001B[39m__paths \u001B[38;5;241m=\u001B[39m vc_env[\u001B[38;5;124m'\u001B[39m\u001B[38;5;124mpath\u001B[39m\u001B[38;5;124m'\u001B[39m]\u001B[38;5;241m.\u001B[39msplit(os\u001B[38;5;241m.\u001B[39mpathsep)\n\u001B[0;32m    403\u001B[0m os\u001B[38;5;241m.\u001B[39menviron[\u001B[38;5;124m'\u001B[39m\u001B[38;5;124mlib\u001B[39m\u001B[38;5;124m'\u001B[39m] \u001B[38;5;241m=\u001B[39m vc_env[\u001B[38;5;124m'\u001B[39m\u001B[38;5;124mlib\u001B[39m\u001B[38;5;124m'\u001B[39m]\n",
      "File \u001B[1;32m~\\miniconda3\\Lib\\site-packages\\setuptools\\_distutils\\msvc9compiler.py:280\u001B[0m, in \u001B[0;36mquery_vcvarsall\u001B[1;34m(version, arch)\u001B[0m\n\u001B[0;32m    277\u001B[0m result \u001B[38;5;241m=\u001B[39m {}\n\u001B[0;32m    279\u001B[0m \u001B[38;5;28;01mif\u001B[39;00m vcvarsall \u001B[38;5;129;01mis\u001B[39;00m \u001B[38;5;28;01mNone\u001B[39;00m:\n\u001B[1;32m--> 280\u001B[0m     \u001B[38;5;28;01mraise\u001B[39;00m DistutilsPlatformError(\u001B[38;5;124m\"\u001B[39m\u001B[38;5;124mUnable to find vcvarsall.bat\u001B[39m\u001B[38;5;124m\"\u001B[39m)\n\u001B[0;32m    281\u001B[0m log\u001B[38;5;241m.\u001B[39mdebug(\u001B[38;5;124m\"\u001B[39m\u001B[38;5;124mCalling \u001B[39m\u001B[38;5;124m'\u001B[39m\u001B[38;5;124mvcvarsall.bat \u001B[39m\u001B[38;5;132;01m%s\u001B[39;00m\u001B[38;5;124m'\u001B[39m\u001B[38;5;124m (version=\u001B[39m\u001B[38;5;132;01m%s\u001B[39;00m\u001B[38;5;124m)\u001B[39m\u001B[38;5;124m\"\u001B[39m, arch, version)\n\u001B[0;32m    282\u001B[0m popen \u001B[38;5;241m=\u001B[39m subprocess\u001B[38;5;241m.\u001B[39mPopen(\n\u001B[0;32m    283\u001B[0m     \u001B[38;5;124mf\u001B[39m\u001B[38;5;124m'\u001B[39m\u001B[38;5;124m\"\u001B[39m\u001B[38;5;132;01m{\u001B[39;00mvcvarsall\u001B[38;5;132;01m}\u001B[39;00m\u001B[38;5;124m\"\u001B[39m\u001B[38;5;124m \u001B[39m\u001B[38;5;132;01m{\u001B[39;00march\u001B[38;5;132;01m}\u001B[39;00m\u001B[38;5;124m & set\u001B[39m\u001B[38;5;124m'\u001B[39m,\n\u001B[0;32m    284\u001B[0m     stdout\u001B[38;5;241m=\u001B[39msubprocess\u001B[38;5;241m.\u001B[39mPIPE,\n\u001B[0;32m    285\u001B[0m     stderr\u001B[38;5;241m=\u001B[39msubprocess\u001B[38;5;241m.\u001B[39mPIPE,\n\u001B[0;32m    286\u001B[0m )\n",
      "\u001B[1;31mDistutilsPlatformError\u001B[0m: Unable to find vcvarsall.bat"
     ]
    }
   ],
   "execution_count": 5
  },
  {
   "metadata": {
    "ExecuteTime": {
     "end_time": "2024-09-23T07:45:34.708083Z",
     "start_time": "2024-09-23T07:45:34.542548Z"
    }
   },
   "cell_type": "code",
   "source": "import numpy as np",
   "id": "4db0dc12e204d26",
   "outputs": [],
   "execution_count": 6
  },
  {
   "metadata": {
    "ExecuteTime": {
     "end_time": "2024-09-23T07:45:40.587273Z",
     "start_time": "2024-09-23T07:45:40.573586Z"
    }
   },
   "cell_type": "code",
   "source": "np.random.rand(1,1)",
   "id": "347a526779b3359e",
   "outputs": [
    {
     "data": {
      "text/plain": [
       "array([[0.22258408]])"
      ]
     },
     "execution_count": 7,
     "metadata": {},
     "output_type": "execute_result"
    }
   ],
   "execution_count": 7
  },
  {
   "metadata": {
    "ExecuteTime": {
     "end_time": "2024-09-23T07:46:06.186376Z",
     "start_time": "2024-09-23T07:46:06.176292Z"
    }
   },
   "cell_type": "code",
   "source": "np.__version__",
   "id": "363b58f75251322",
   "outputs": [
    {
     "data": {
      "text/plain": [
       "'1.26.4'"
      ]
     },
     "execution_count": 9,
     "metadata": {},
     "output_type": "execute_result"
    }
   ],
   "execution_count": 9
  },
  {
   "metadata": {},
   "cell_type": "code",
   "outputs": [],
   "execution_count": null,
   "source": "",
   "id": "be1d356cbfbaef89"
  }
 ],
 "metadata": {
  "kernelspec": {
   "display_name": "Python 3",
   "language": "python",
   "name": "python3"
  },
  "language_info": {
   "codemirror_mode": {
    "name": "ipython",
    "version": 2
   },
   "file_extension": ".py",
   "mimetype": "text/x-python",
   "name": "python",
   "nbconvert_exporter": "python",
   "pygments_lexer": "ipython2",
   "version": "2.7.6"
  }
 },
 "nbformat": 4,
 "nbformat_minor": 5
}
